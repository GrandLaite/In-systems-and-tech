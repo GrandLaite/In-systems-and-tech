{
  "cells": [
    {
      "cell_type": "markdown",
      "metadata": {
        "id": "jLJseCER3KLM"
      },
      "source": [
        "# Домашняя работа. Numpy\n",
        "\n",
        "1. Скачайте этот ноутбук к себе.\n",
        "2. Заполните пропущенные ячейки, отвечая на заданные вопросы. Там должен быть код! (если не сказано обратное)\n",
        "3. Сохраните результат в своём гитхаб репозитории.\n",
        "\n",
        "#### Полезная литература\n",
        "\n",
        "- http://www.numpy.org/\n",
        "- https://jakevdp.github.io/PythonDataScienceHandbook/02.00-introduction-to-numpy.html\n",
        "- https://docs.scipy.org/doc/numpy/user/quickstart.html"
      ]
    },
    {
      "cell_type": "markdown",
      "source": [],
      "metadata": {
        "id": "GhYLxZqJ3UKU"
      }
    },
    {
      "cell_type": "code",
      "source": [],
      "metadata": {
        "id": "TPRUHvBZ3nGo"
      },
      "execution_count": null,
      "outputs": []
    },
    {
      "cell_type": "markdown",
      "metadata": {
        "id": "yEatAy0P3KLN"
      },
      "source": [
        "1) Импортировать numpy и написать версию"
      ]
    },
    {
      "cell_type": "code",
      "execution_count": 1,
      "metadata": {
        "colab": {
          "base_uri": "https://localhost:8080/"
        },
        "id": "k4HTW6jK3KLO",
        "outputId": "65e8023b-55b9-443c-a9e5-549f63917f90"
      },
      "outputs": [
        {
          "output_type": "stream",
          "name": "stdout",
          "text": [
            "Версия numpy: 1.26.4\n"
          ]
        }
      ],
      "source": [
        "import numpy as np\n",
        "print(\"Версия numpy:\", np.__version__)\n"
      ]
    },
    {
      "cell_type": "markdown",
      "metadata": {
        "id": "EEQ1Ybjl3KLO"
      },
      "source": [
        "2) Создать нулевой вектор размера 10"
      ]
    },
    {
      "cell_type": "code",
      "execution_count": 2,
      "metadata": {
        "colab": {
          "base_uri": "https://localhost:8080/"
        },
        "id": "IrP8L5_13KLO",
        "outputId": "d2930e60-342f-4a8c-f088-8f50340c9d60"
      },
      "outputs": [
        {
          "output_type": "stream",
          "name": "stdout",
          "text": [
            "Нулевой вектор размера 10: [0. 0. 0. 0. 0. 0. 0. 0. 0. 0.]\n"
          ]
        }
      ],
      "source": [
        "zero = np.zeros(10)\n",
        "print(\"Нулевой вектор размера 10:\", zero)"
      ]
    },
    {
      "cell_type": "markdown",
      "metadata": {
        "id": "KQkRWLaW3KLO"
      },
      "source": [
        "3) Создать вектор заполненный 7-ами размера 7"
      ]
    },
    {
      "cell_type": "code",
      "execution_count": 3,
      "metadata": {
        "colab": {
          "base_uri": "https://localhost:8080/"
        },
        "id": "8NWAkEfo3KLP",
        "outputId": "64f2540f-7244-460b-9552-0cdb98316e47"
      },
      "outputs": [
        {
          "output_type": "stream",
          "name": "stdout",
          "text": [
            "Вектор, заполненный семерками размера 7: [7 7 7 7 7 7 7]\n"
          ]
        }
      ],
      "source": [
        "seven = np.full(7, 7)\n",
        "print(\"Вектор, заполненный семерками размера 7:\", seven)"
      ]
    },
    {
      "cell_type": "markdown",
      "metadata": {
        "id": "1lkAeQtT3KLP"
      },
      "source": [
        "4) Создать вектор заполненный четными числами от 10 до 100"
      ]
    },
    {
      "cell_type": "code",
      "execution_count": 4,
      "metadata": {
        "colab": {
          "base_uri": "https://localhost:8080/"
        },
        "id": "aiuq7pra3KLP",
        "outputId": "92ea83d9-0d73-41a3-9ad1-fc3856b1af19"
      },
      "outputs": [
        {
          "output_type": "stream",
          "name": "stdout",
          "text": [
            "Вектор, заполненный четными числами от 10 до 100: [ 10  12  14  16  18  20  22  24  26  28  30  32  34  36  38  40  42  44\n",
            "  46  48  50  52  54  56  58  60  62  64  66  68  70  72  74  76  78  80\n",
            "  82  84  86  88  90  92  94  96  98 100]\n"
          ]
        }
      ],
      "source": [
        "vector = np.arange(10, 101, 2)\n",
        "print(\"Вектор, заполненный четными числами от 10 до 100:\", vector)"
      ]
    },
    {
      "cell_type": "markdown",
      "metadata": {
        "id": "2INASOjc3KLP"
      },
      "source": [
        "5) Создать массив случайных чисел и развернуть его задом наперёд"
      ]
    },
    {
      "cell_type": "code",
      "execution_count": 11,
      "metadata": {
        "colab": {
          "base_uri": "https://localhost:8080/"
        },
        "id": "yLyfSm023KLP",
        "outputId": "e31d0792-718d-49d9-e25f-34c70c77639a"
      },
      "outputs": [
        {
          "output_type": "stream",
          "name": "stdout",
          "text": [
            "Случайный массив (числа от 1 до 10): [ 2  6  5  5  1  3  2 10  6  4]\n",
            "Развернутый массив: [ 4  6 10  2  3  1  5  5  6  2]\n"
          ]
        }
      ],
      "source": [
        "random_array = np.random.randint(1, 11, size=10)\n",
        "reversed_array = random_array[::-1]\n",
        "print(\"Случайный массив (числа от 1 до 10):\", random_array)\n",
        "print(\"Развернутый массив:\", reversed_array)\n"
      ]
    },
    {
      "cell_type": "markdown",
      "metadata": {
        "id": "khbdldJm3KLP"
      },
      "source": [
        "6) Создать двумерную матрицу размера 3 на 3, заполненную числами от 0 до 9"
      ]
    },
    {
      "cell_type": "code",
      "execution_count": 6,
      "metadata": {
        "colab": {
          "base_uri": "https://localhost:8080/"
        },
        "id": "Rimbi92x3KLQ",
        "outputId": "ce5224cc-5355-4a4a-da7a-a29250cdac6c"
      },
      "outputs": [
        {
          "output_type": "stream",
          "name": "stdout",
          "text": [
            "Матрица 3x3, заполненная числами от 0 до 9:\n",
            "[[0 1 2]\n",
            " [3 4 5]\n",
            " [6 7 8]]\n"
          ]
        }
      ],
      "source": [
        "matrix = np.arange(9).reshape(3, 3)\n",
        "print(\"Матрица 3x3, заполненная числами от 0 до 9:\")\n",
        "print(matrix)"
      ]
    },
    {
      "cell_type": "markdown",
      "metadata": {
        "id": "ZAh_6dzn3KLQ"
      },
      "source": [
        "7) Создать матрицу размера 4 на 4 с единицами на диагонали смещеной на один наверх."
      ]
    },
    {
      "cell_type": "code",
      "execution_count": 7,
      "metadata": {
        "colab": {
          "base_uri": "https://localhost:8080/"
        },
        "id": "4skUFqL53KLQ",
        "outputId": "9d36a66e-409d-4046-906d-2f56235473d4"
      },
      "outputs": [
        {
          "output_type": "stream",
          "name": "stdout",
          "text": [
            "Матрица 4x4 с единицами на диагонали, смещенной на один вверх:\n",
            "[[0. 1. 0. 0.]\n",
            " [0. 0. 1. 0.]\n",
            " [0. 0. 0. 1.]\n",
            " [0. 0. 0. 0.]]\n"
          ]
        }
      ],
      "source": [
        "matrix = np.eye(4, k=1)\n",
        "print(\"Матрица 4x4 с единицами на диагонали, смещенной на один вверх:\")\n",
        "print(matrix)"
      ]
    },
    {
      "cell_type": "markdown",
      "metadata": {
        "id": "4-fBoGLe3KLQ"
      },
      "source": [
        "8) Создать матрицу с числами в диапазоне от 1 до 4 по диагонали. В других ячейках матрицы должны быть семерки."
      ]
    },
    {
      "cell_type": "code",
      "execution_count": 8,
      "metadata": {
        "colab": {
          "base_uri": "https://localhost:8080/"
        },
        "id": "qYCrWKp63KLQ",
        "outputId": "b3661671-0ab6-4042-a89e-fb4ac4a41be1"
      },
      "outputs": [
        {
          "output_type": "stream",
          "name": "stdout",
          "text": [
            "Матрица с числами от 1 до 4 по диагонали, остальное заполнено семерками:\n",
            "[[1 7 7 7]\n",
            " [7 2 7 7]\n",
            " [7 7 3 7]\n",
            " [7 7 7 4]]\n"
          ]
        }
      ],
      "source": [
        "matrix_7_fill = np.full((4, 4), 7)  # Матрица 4x4 заполненная семерками\n",
        "np.fill_diagonal(matrix_7_fill, [1, 2, 3, 4])  # Заполняем диагональ числами от 1 до 4\n",
        "print(\"Матрица с числами от 1 до 4 по диагонали, остальное заполнено семерками:\")\n",
        "print(matrix_7_fill)\n"
      ]
    },
    {
      "cell_type": "markdown",
      "metadata": {
        "id": "sFb1HvKv3KLQ"
      },
      "source": [
        "9) Создать матрицу размера 5 на 5 заполненную чилами от 0 до 4 в строках."
      ]
    },
    {
      "cell_type": "code",
      "execution_count": 9,
      "metadata": {
        "colab": {
          "base_uri": "https://localhost:8080/"
        },
        "id": "KsJYKJJX3KLQ",
        "outputId": "ceb8cb56-25dd-4ddf-bf0c-f7bee4b27fd8"
      },
      "outputs": [
        {
          "output_type": "stream",
          "name": "stdout",
          "text": [
            "Матрица 5x5, заполненная числами от 0 до 4 по строкам:\n",
            "[[0 1 2 3 4]\n",
            " [0 1 2 3 4]\n",
            " [0 1 2 3 4]\n",
            " [0 1 2 3 4]\n",
            " [0 1 2 3 4]]\n"
          ]
        }
      ],
      "source": [
        "matrix_5x5 = np.tile(np.arange(5), (5, 1))\n",
        "print(\"Матрица 5x5, заполненная числами от 0 до 4 по строкам:\")\n",
        "print(matrix_5x5)"
      ]
    },
    {
      "cell_type": "markdown",
      "metadata": {
        "id": "2b8sB-f33KLQ"
      },
      "source": [
        "10) Создать матрицу случайных чисел размера 10 на 10 и отнять среднее по строкам из каждого элемента строки"
      ]
    },
    {
      "cell_type": "code",
      "execution_count": 12,
      "metadata": {
        "colab": {
          "base_uri": "https://localhost:8080/"
        },
        "id": "zDezO92h3KLQ",
        "outputId": "8fe0b18c-16df-4844-ac9e-8e1ef5836ea3"
      },
      "outputs": [
        {
          "output_type": "stream",
          "name": "stdout",
          "text": [
            "Матрица 10x10 (числа от 1 до 10), из которой вычтено среднее по строкам:\n",
            "[[-1.8  3.2 -3.8  4.2  2.2  0.2 -0.8 -2.8 -0.8  0.2]\n",
            " [-1.1  3.9  3.9  0.9 -5.1 -4.1  2.9  0.9 -4.1  1.9]\n",
            " [-0.7  1.3  4.3 -4.7 -0.7  0.3  3.3  2.3 -2.7 -2.7]\n",
            " [ 5.   1.  -2.  -2.   3.   0.  -2.   1.  -2.  -2. ]\n",
            " [ 4.2 -1.8 -3.8 -2.8  1.2  0.2  4.2 -0.8 -2.8  2.2]\n",
            " [ 2.6  0.6  3.6 -1.4 -0.4  1.6 -0.4 -1.4 -1.4 -3.4]\n",
            " [-3.1 -1.1 -3.1  1.9  1.9 -1.1  3.9  4.9 -2.1 -2.1]\n",
            " [ 3.9  0.9  1.9 -3.1 -4.1  1.9 -0.1 -0.1  2.9 -4.1]\n",
            " [ 3.6 -3.4 -3.4  3.6  3.6  4.6 -0.4 -2.4 -3.4 -2.4]\n",
            " [ 3.8 -5.2  3.8  0.8  0.8 -1.2  1.8 -1.2 -0.2 -3.2]]\n"
          ]
        }
      ],
      "source": [
        "matrix_random_10x10 = np.random.randint(1, 11, size=(10, 10))\n",
        "matrix_centered_by_rows = matrix_random_10x10 - matrix_random_10x10.mean(axis=1, keepdims=True)\n",
        "print(\"Матрица 10x10 (числа от 1 до 10), из которой вычтено среднее по строкам:\")\n",
        "print(matrix_centered_by_rows)\n"
      ]
    },
    {
      "cell_type": "markdown",
      "metadata": {
        "id": "EYsG8fZS3KLQ"
      },
      "source": [
        "11) Создать матрицу случайных чисел размера 10 на 10 и отнять медиану по столбцам из каждого элемента столбца  "
      ]
    },
    {
      "cell_type": "code",
      "execution_count": 14,
      "metadata": {
        "colab": {
          "base_uri": "https://localhost:8080/"
        },
        "id": "a4DgCcQt3KLQ",
        "outputId": "023dd677-400c-4f91-f278-bab8bcec1c59"
      },
      "outputs": [
        {
          "output_type": "stream",
          "name": "stdout",
          "text": [
            "Матрица 10x10 (числа от 1 до 10), из которой вычтена медиана по столбцам:\n",
            "[[ 2.   0.  -1.5  1.  -0.5 -1.5 -3.   3.5  4.  -7.5]\n",
            " [ 0.  -2.  -4.5 -2.   5.5 -2.5 -3.   0.5 -4.  -4.5]\n",
            " [ 0.   0.  -2.5  2.  -0.5  0.5  4.  -2.5  0.   1.5]\n",
            " [-1.  -5.  -0.5 -5.   0.5 -0.5  0.   2.5 -1.   0.5]\n",
            " [-3.  -6.   1.5 -7.   1.5  2.5 -2.  -4.5  3.   1.5]\n",
            " [-4.   1.   0.5  0.  -3.5  2.5  0.   2.5  0.  -4.5]\n",
            " [ 0.   1.  -1.5  1.   1.5 -4.5  4.  -0.5  3.   0.5]\n",
            " [ 1.  -4.   2.5 -5.  -1.5 -3.5 -4.  -0.5  3.  -0.5]\n",
            " [-6.   0.   2.5  0.   4.5  2.5  0.  -3.5 -2.   1.5]\n",
            " [ 1.   0.   0.5  0.  -2.5  2.5  3.   0.5 -2.  -1.5]]\n"
          ]
        }
      ],
      "source": [
        "matrix_random_10x10_2 = np.random.randint(1, 11, size=(10, 10))\n",
        "matrix_centered_by_columns = matrix_random_10x10_2 - np.median(matrix_random_10x10_2, axis=0, keepdims=True)\n",
        "print(\"Матрица 10x10 (числа от 1 до 10), из которой вычтена медиана по столбцам:\")\n",
        "print(matrix_centered_by_columns)"
      ]
    },
    {
      "cell_type": "markdown",
      "metadata": {
        "id": "OcYYGA7O3KLQ"
      },
      "source": [
        "12) Создать матрицу случайных чисел 5x5. Добавить к ней столбецы максимумов и минимумов по строкам. Получится матрица 5x7.  "
      ]
    },
    {
      "cell_type": "code",
      "execution_count": 16,
      "metadata": {
        "colab": {
          "base_uri": "https://localhost:8080/"
        },
        "id": "wKmVdnsr3KLR",
        "outputId": "099f6b17-33b0-475c-8850-f70dd2fcfe2b"
      },
      "outputs": [
        {
          "output_type": "stream",
          "name": "stdout",
          "text": [
            "Матрица 5x5 (числа от 1 до 10) с добавленными столбцами максимумов и минимумов по строкам:\n",
            "[[ 8  4  2  1  2  8  1]\n",
            " [ 5 10  1  8  7 10  1]\n",
            " [10  2  4  3  3 10  2]\n",
            " [ 4  7  4  3  7  7  3]\n",
            " [ 2 10 10  6  5 10  2]]\n"
          ]
        }
      ],
      "source": [
        "# Создаем матрицу случайных чисел от 1 до 10 размера 5x5\n",
        "matrix_random_5x5 = np.random.randint(1, 11, size=(5, 5))\n",
        "# Находим максимум и минимум по строкам и добавляем как столбцы\n",
        "max_columns = matrix_random_5x5.max(axis=1).reshape(-1, 1)\n",
        "min_columns = matrix_random_5x5.min(axis=1).reshape(-1, 1)\n",
        "# Добавляем столбцы максимумов и минимумов к исходной матрице\n",
        "matrix_extended = np.hstack((matrix_random_5x5, max_columns, min_columns))\n",
        "print(\"Матрица 5x5 (числа от 1 до 10) с добавленными столбцами максимумов и минимумов по строкам:\")\n",
        "print(matrix_extended)"
      ]
    },
    {
      "cell_type": "markdown",
      "metadata": {
        "id": "pcDlGDZq3KLR"
      },
      "source": [
        "13) Вектор чисел от 1 до 51 преобразовать в вектор нечетных чисел и в вектор четных чисел, поменять их размерности, чтобы получились две матрица. Найти произведение этих матриц. Найти обратную матрицу эётого произведения.  "
      ]
    },
    {
      "cell_type": "code",
      "execution_count": 17,
      "metadata": {
        "colab": {
          "base_uri": "https://localhost:8080/",
          "height": 1000
        },
        "id": "zfNC-ELr3KLR",
        "outputId": "4d963a07-6066-4576-9ca9-ea49baa009c4"
      },
      "outputs": [
        {
          "output_type": "stream",
          "name": "stdout",
          "text": [
            "Произведение матриц из четных и нечетных чисел:\n",
            "[[   2    4    6    8   10   12   14   16   18   20   22   24   26   28\n",
            "    30   32   34   36   38   40   42   44   46   48   50]\n",
            " [   6   12   18   24   30   36   42   48   54   60   66   72   78   84\n",
            "    90   96  102  108  114  120  126  132  138  144  150]\n",
            " [  10   20   30   40   50   60   70   80   90  100  110  120  130  140\n",
            "   150  160  170  180  190  200  210  220  230  240  250]\n",
            " [  14   28   42   56   70   84   98  112  126  140  154  168  182  196\n",
            "   210  224  238  252  266  280  294  308  322  336  350]\n",
            " [  18   36   54   72   90  108  126  144  162  180  198  216  234  252\n",
            "   270  288  306  324  342  360  378  396  414  432  450]\n",
            " [  22   44   66   88  110  132  154  176  198  220  242  264  286  308\n",
            "   330  352  374  396  418  440  462  484  506  528  550]\n",
            " [  26   52   78  104  130  156  182  208  234  260  286  312  338  364\n",
            "   390  416  442  468  494  520  546  572  598  624  650]\n",
            " [  30   60   90  120  150  180  210  240  270  300  330  360  390  420\n",
            "   450  480  510  540  570  600  630  660  690  720  750]\n",
            " [  34   68  102  136  170  204  238  272  306  340  374  408  442  476\n",
            "   510  544  578  612  646  680  714  748  782  816  850]\n",
            " [  38   76  114  152  190  228  266  304  342  380  418  456  494  532\n",
            "   570  608  646  684  722  760  798  836  874  912  950]\n",
            " [  42   84  126  168  210  252  294  336  378  420  462  504  546  588\n",
            "   630  672  714  756  798  840  882  924  966 1008 1050]\n",
            " [  46   92  138  184  230  276  322  368  414  460  506  552  598  644\n",
            "   690  736  782  828  874  920  966 1012 1058 1104 1150]\n",
            " [  50  100  150  200  250  300  350  400  450  500  550  600  650  700\n",
            "   750  800  850  900  950 1000 1050 1100 1150 1200 1250]\n",
            " [  54  108  162  216  270  324  378  432  486  540  594  648  702  756\n",
            "   810  864  918  972 1026 1080 1134 1188 1242 1296 1350]\n",
            " [  58  116  174  232  290  348  406  464  522  580  638  696  754  812\n",
            "   870  928  986 1044 1102 1160 1218 1276 1334 1392 1450]\n",
            " [  62  124  186  248  310  372  434  496  558  620  682  744  806  868\n",
            "   930  992 1054 1116 1178 1240 1302 1364 1426 1488 1550]\n",
            " [  66  132  198  264  330  396  462  528  594  660  726  792  858  924\n",
            "   990 1056 1122 1188 1254 1320 1386 1452 1518 1584 1650]\n",
            " [  70  140  210  280  350  420  490  560  630  700  770  840  910  980\n",
            "  1050 1120 1190 1260 1330 1400 1470 1540 1610 1680 1750]\n",
            " [  74  148  222  296  370  444  518  592  666  740  814  888  962 1036\n",
            "  1110 1184 1258 1332 1406 1480 1554 1628 1702 1776 1850]\n",
            " [  78  156  234  312  390  468  546  624  702  780  858  936 1014 1092\n",
            "  1170 1248 1326 1404 1482 1560 1638 1716 1794 1872 1950]\n",
            " [  82  164  246  328  410  492  574  656  738  820  902  984 1066 1148\n",
            "  1230 1312 1394 1476 1558 1640 1722 1804 1886 1968 2050]\n",
            " [  86  172  258  344  430  516  602  688  774  860  946 1032 1118 1204\n",
            "  1290 1376 1462 1548 1634 1720 1806 1892 1978 2064 2150]\n",
            " [  90  180  270  360  450  540  630  720  810  900  990 1080 1170 1260\n",
            "  1350 1440 1530 1620 1710 1800 1890 1980 2070 2160 2250]\n",
            " [  94  188  282  376  470  564  658  752  846  940 1034 1128 1222 1316\n",
            "  1410 1504 1598 1692 1786 1880 1974 2068 2162 2256 2350]\n",
            " [  98  196  294  392  490  588  686  784  882  980 1078 1176 1274 1372\n",
            "  1470 1568 1666 1764 1862 1960 2058 2156 2254 2352 2450]\n",
            " [ 102  204  306  408  510  612  714  816  918 1020 1122 1224 1326 1428\n",
            "  1530 1632 1734 1836 1938 2040 2142 2244 2346 2448 2550]]\n"
          ]
        },
        {
          "output_type": "error",
          "ename": "LinAlgError",
          "evalue": "Last 2 dimensions of the array must be square",
          "traceback": [
            "\u001b[0;31m---------------------------------------------------------------------------\u001b[0m",
            "\u001b[0;31mLinAlgError\u001b[0m                               Traceback (most recent call last)",
            "\u001b[0;32m<ipython-input-17-4482e7d17a08>\u001b[0m in \u001b[0;36m<cell line: 14>\u001b[0;34m()\u001b[0m\n\u001b[1;32m     12\u001b[0m \u001b[0;34m\u001b[0m\u001b[0m\n\u001b[1;32m     13\u001b[0m \u001b[0;31m# Находим обратную матрицу этого произведения\u001b[0m\u001b[0;34m\u001b[0m\u001b[0;34m\u001b[0m\u001b[0m\n\u001b[0;32m---> 14\u001b[0;31m \u001b[0minverse_matrix\u001b[0m \u001b[0;34m=\u001b[0m \u001b[0mnp\u001b[0m\u001b[0;34m.\u001b[0m\u001b[0mlinalg\u001b[0m\u001b[0;34m.\u001b[0m\u001b[0minv\u001b[0m\u001b[0;34m(\u001b[0m\u001b[0mmatrix_product\u001b[0m\u001b[0;34m)\u001b[0m\u001b[0;34m\u001b[0m\u001b[0;34m\u001b[0m\u001b[0m\n\u001b[0m\u001b[1;32m     15\u001b[0m \u001b[0mprint\u001b[0m\u001b[0;34m(\u001b[0m\u001b[0;34m\"Обратная матрица произведения:\"\u001b[0m\u001b[0;34m)\u001b[0m\u001b[0;34m\u001b[0m\u001b[0;34m\u001b[0m\u001b[0m\n\u001b[1;32m     16\u001b[0m \u001b[0mprint\u001b[0m\u001b[0;34m(\u001b[0m\u001b[0minverse_matrix\u001b[0m\u001b[0;34m)\u001b[0m\u001b[0;34m\u001b[0m\u001b[0;34m\u001b[0m\u001b[0m\n",
            "\u001b[0;32m/usr/local/lib/python3.10/dist-packages/numpy/linalg/linalg.py\u001b[0m in \u001b[0;36minv\u001b[0;34m(a)\u001b[0m\n\u001b[1;32m    554\u001b[0m     \u001b[0ma\u001b[0m\u001b[0;34m,\u001b[0m \u001b[0mwrap\u001b[0m \u001b[0;34m=\u001b[0m \u001b[0m_makearray\u001b[0m\u001b[0;34m(\u001b[0m\u001b[0ma\u001b[0m\u001b[0;34m)\u001b[0m\u001b[0;34m\u001b[0m\u001b[0;34m\u001b[0m\u001b[0m\n\u001b[1;32m    555\u001b[0m     \u001b[0m_assert_stacked_2d\u001b[0m\u001b[0;34m(\u001b[0m\u001b[0ma\u001b[0m\u001b[0;34m)\u001b[0m\u001b[0;34m\u001b[0m\u001b[0;34m\u001b[0m\u001b[0m\n\u001b[0;32m--> 556\u001b[0;31m     \u001b[0m_assert_stacked_square\u001b[0m\u001b[0;34m(\u001b[0m\u001b[0ma\u001b[0m\u001b[0;34m)\u001b[0m\u001b[0;34m\u001b[0m\u001b[0;34m\u001b[0m\u001b[0m\n\u001b[0m\u001b[1;32m    557\u001b[0m     \u001b[0mt\u001b[0m\u001b[0;34m,\u001b[0m \u001b[0mresult_t\u001b[0m \u001b[0;34m=\u001b[0m \u001b[0m_commonType\u001b[0m\u001b[0;34m(\u001b[0m\u001b[0ma\u001b[0m\u001b[0;34m)\u001b[0m\u001b[0;34m\u001b[0m\u001b[0;34m\u001b[0m\u001b[0m\n\u001b[1;32m    558\u001b[0m \u001b[0;34m\u001b[0m\u001b[0m\n",
            "\u001b[0;32m/usr/local/lib/python3.10/dist-packages/numpy/linalg/linalg.py\u001b[0m in \u001b[0;36m_assert_stacked_square\u001b[0;34m(*arrays)\u001b[0m\n\u001b[1;32m    211\u001b[0m         \u001b[0mm\u001b[0m\u001b[0;34m,\u001b[0m \u001b[0mn\u001b[0m \u001b[0;34m=\u001b[0m \u001b[0ma\u001b[0m\u001b[0;34m.\u001b[0m\u001b[0mshape\u001b[0m\u001b[0;34m[\u001b[0m\u001b[0;34m-\u001b[0m\u001b[0;36m2\u001b[0m\u001b[0;34m:\u001b[0m\u001b[0;34m]\u001b[0m\u001b[0;34m\u001b[0m\u001b[0;34m\u001b[0m\u001b[0m\n\u001b[1;32m    212\u001b[0m         \u001b[0;32mif\u001b[0m \u001b[0mm\u001b[0m \u001b[0;34m!=\u001b[0m \u001b[0mn\u001b[0m\u001b[0;34m:\u001b[0m\u001b[0;34m\u001b[0m\u001b[0;34m\u001b[0m\u001b[0m\n\u001b[0;32m--> 213\u001b[0;31m             \u001b[0;32mraise\u001b[0m \u001b[0mLinAlgError\u001b[0m\u001b[0;34m(\u001b[0m\u001b[0;34m'Last 2 dimensions of the array must be square'\u001b[0m\u001b[0;34m)\u001b[0m\u001b[0;34m\u001b[0m\u001b[0;34m\u001b[0m\u001b[0m\n\u001b[0m\u001b[1;32m    214\u001b[0m \u001b[0;34m\u001b[0m\u001b[0m\n\u001b[1;32m    215\u001b[0m \u001b[0;32mdef\u001b[0m \u001b[0m_assert_finite\u001b[0m\u001b[0;34m(\u001b[0m\u001b[0;34m*\u001b[0m\u001b[0marrays\u001b[0m\u001b[0;34m)\u001b[0m\u001b[0;34m:\u001b[0m\u001b[0;34m\u001b[0m\u001b[0;34m\u001b[0m\u001b[0m\n",
            "\u001b[0;31mLinAlgError\u001b[0m: Last 2 dimensions of the array must be square"
          ]
        }
      ],
      "source": [
        "# Создаем вектор чисел от 1 до 51\n",
        "vector_1_to_51 = np.arange(1, 52)\n",
        "\n",
        "# Преобразуем вектор в вектор нечетных чисел и в вектор четных чисел\n",
        "odd_vector = vector_1_to_51[vector_1_to_51 % 2 != 0].reshape(-1, 1)  # Нечетные числа, преобразованные в столбец\n",
        "even_vector = vector_1_to_51[vector_1_to_51 % 2 == 0].reshape(1, -1)  # Четные числа, преобразованные в строку\n",
        "\n",
        "# Находим произведение этих матриц\n",
        "matrix_product = np.dot(odd_vector, even_vector)\n",
        "print(\"Произведение матриц из четных и нечетных чисел:\")\n",
        "print(matrix_product)\n",
        "\n",
        "# Находим обратную матрицу этого произведения\n",
        "inverse_matrix = np.linalg.inv(matrix_product)\n",
        "print(\"Обратная матрица произведения:\")\n",
        "print(inverse_matrix)"
      ]
    },
    {
      "cell_type": "markdown",
      "metadata": {
        "id": "Iyjae-yp3KLR"
      },
      "source": [
        "14) Создать 8x8 матрицу и заполнить её в шахматном порядке нулями и единицами."
      ]
    },
    {
      "cell_type": "code",
      "execution_count": 18,
      "metadata": {
        "colab": {
          "base_uri": "https://localhost:8080/"
        },
        "id": "JxQmYZ_e3KLR",
        "outputId": "a3023b63-c081-4d12-c4d9-cf065a2989e0"
      },
      "outputs": [
        {
          "output_type": "stream",
          "name": "stdout",
          "text": [
            "8x8 матрица, заполненная в шахматном порядке:\n",
            "[[0 1 0 1 0 1 0 1]\n",
            " [1 0 1 0 1 0 1 0]\n",
            " [0 1 0 1 0 1 0 1]\n",
            " [1 0 1 0 1 0 1 0]\n",
            " [0 1 0 1 0 1 0 1]\n",
            " [1 0 1 0 1 0 1 0]\n",
            " [0 1 0 1 0 1 0 1]\n",
            " [1 0 1 0 1 0 1 0]]\n"
          ]
        }
      ],
      "source": [
        "# Создаем 8x8 матрицу и заполняем её в шахматном порядке нулями и единицами\n",
        "chessboard_matrix = np.zeros((8, 8), dtype=int)\n",
        "chessboard_matrix[1::2, ::2] = 1  # Заполняем единицами каждую вторую строку с каждого второго столбца\n",
        "chessboard_matrix[::2, 1::2] = 1  # Заполняем единицами каждую первую строку с каждого второго столбца\n",
        "print(\"8x8 матрица, заполненная в шахматном порядке:\")\n",
        "print(chessboard_matrix)"
      ]
    }
  ],
  "metadata": {
    "kernelspec": {
      "display_name": "Python 3 (ipykernel)",
      "language": "python",
      "name": "python3"
    },
    "language_info": {
      "codemirror_mode": {
        "name": "ipython",
        "version": 3
      },
      "file_extension": ".py",
      "mimetype": "text/x-python",
      "name": "python",
      "nbconvert_exporter": "python",
      "pygments_lexer": "ipython3",
      "version": "3.12.4"
    },
    "colab": {
      "provenance": []
    }
  },
  "nbformat": 4,
  "nbformat_minor": 0
}